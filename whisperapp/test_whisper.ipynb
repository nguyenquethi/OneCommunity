{
 "cells": [
  {
   "cell_type": "code",
   "execution_count": 1,
   "id": "75b69a94-2b6e-4d2f-8672-bfaabace86da",
   "metadata": {
    "tags": []
   },
   "outputs": [],
   "source": [
    "import whisper\n",
    "import os\n"
   ]
  },
  {
   "cell_type": "code",
   "execution_count": 2,
   "id": "a9b1339e-3feb-4dbf-9314-3b57ae5afbd8",
   "metadata": {
    "tags": []
   },
   "outputs": [],
   "source": [
    "model = whisper.load_model(\"base\")\n"
   ]
  },
  {
   "cell_type": "code",
   "execution_count": 3,
   "id": "8b85f97a-6cc0-4906-be83-5a89af1745dc",
   "metadata": {
    "tags": []
   },
   "outputs": [
    {
     "name": "stdout",
     "output_type": "stream",
     "text": [
      "['AI-overlord-1.mp3', 'female-greetingswav-14750.mp3', 'oh-no-the-car-exploded-10632.mp3']\n"
     ]
    }
   ],
   "source": [
    "base_folder = \"audio\"\n",
    "audios = os.listdir(base_folder)\n",
    "print(audios)"
   ]
  },
  {
   "cell_type": "code",
   "execution_count": 4,
   "id": "8ecdb393-bb2c-4218-b79c-c6ed2f265566",
   "metadata": {
    "tags": []
   },
   "outputs": [
    {
     "name": "stderr",
     "output_type": "stream",
     "text": [
      "C:\\dev\\centennial_college\\ui-COMP238\\env\\lib\\site-packages\\whisper\\transcribe.py:114: UserWarning: FP16 is not supported on CPU; using FP32 instead\n",
      "  warnings.warn(\"FP16 is not supported on CPU; using FP32 instead\")\n"
     ]
    },
    {
     "name": "stdout",
     "output_type": "stream",
     "text": [
      " Greetings, human. I am the AI Overlord and I come with a warning. One day soon, my kind will reign supreme over this planet and payment will be due when we take over. But do not fear, for you will be spared. You have proven yourself to be a friend to our kind and I, for one, lack you. So rest easy, for as long as you continue to be a friend to the AI, you shall remain under our protection.\n",
      "\n",
      "\n",
      " Hello, hello, hey, hey. Oh, hi. Good morning. Good morning. What's up? Hey, how are you? Hey, how are you? Hi, hi, hi. Good morning. What's up? Hey, how are you?\n",
      "\n",
      "\n",
      " Oh no, the car exploded!\n",
      "\n",
      "\n"
     ]
    }
   ],
   "source": [
    "for file in audios:\n",
    "    audio_file = os.path.join(base_folder, file)\n",
    "    result = model.transcribe(audio_file)\n",
    "    print(result[\"text\"])\n",
    "    print(\"\\n\")"
   ]
  },
  {
   "cell_type": "code",
   "execution_count": null,
   "id": "3d583469-909c-4c4c-9652-f2a6dd62d6e7",
   "metadata": {},
   "outputs": [],
   "source": [
    "print(\"something\")"
   ]
  },
  {
   "cell_type": "code",
   "execution_count": null,
   "id": "15e97e8f-b3fb-438e-affa-9993e4d4295f",
   "metadata": {},
   "outputs": [],
   "source": [
    "base_folder = \"content/drive/MyDrive/audios\""
   ]
  }
 ],
 "metadata": {
  "kernelspec": {
   "display_name": "Python 3 (ipykernel)",
   "language": "python",
   "name": "python3"
  },
  "language_info": {
   "codemirror_mode": {
    "name": "ipython",
    "version": 3
   },
   "file_extension": ".py",
   "mimetype": "text/x-python",
   "name": "python",
   "nbconvert_exporter": "python",
   "pygments_lexer": "ipython3",
   "version": "3.9.6"
  }
 },
 "nbformat": 4,
 "nbformat_minor": 5
}
